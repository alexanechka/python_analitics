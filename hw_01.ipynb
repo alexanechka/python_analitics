{
 "cells": [
  {
   "cell_type": "markdown",
   "id": "ff5d517d",
   "metadata": {},
   "source": [
    "## Задача 2\n",
    "\n",
    "На складе лежат разные фрукты в разном количестве.\n",
    "Нужно написать функцию, которая на вход принимает любое количество названий фруктов и их количество, а возвращает общее количество фруктов на складе"
   ]
  },
  {
   "cell_type": "code",
   "execution_count": 15,
   "id": "d0f26c11",
   "metadata": {},
   "outputs": [],
   "source": [
    "def fruits_count(**fruit_info):\n",
    "    fruits_total = 0\n",
    "    \n",
    "    for value in fruit_info.values():\n",
    "       fruits_total += value \n",
    "    \n",
    "    return fruits_total    "
   ]
  },
  {
   "cell_type": "code",
   "execution_count": 14,
   "id": "8d5e9a14",
   "metadata": {},
   "outputs": [
    {
     "data": {
      "text/plain": [
       "11"
      ]
     },
     "execution_count": 14,
     "metadata": {},
     "output_type": "execute_result"
    }
   ],
   "source": [
    "fruits_count(apple=2, peach=1, grape=8)"
   ]
  },
  {
   "cell_type": "markdown",
   "id": "3ac85fe8",
   "metadata": {},
   "source": [
    "## Задача 3\n",
    "Дан список с затратами на рекламу. Но в данных есть ошибки, некоторые затраты имеют отрицательную величину. Удалите такие значения из списка и посчитайте суммарные затраты\n",
    "[100, 125, -90, 345, 655, -1, 0, 200]\n",
    "Используйте list comprehensions"
   ]
  },
  {
   "cell_type": "code",
   "execution_count": 16,
   "id": "364d9d62",
   "metadata": {},
   "outputs": [],
   "source": [
    "costs = [100, 125, -90, 345, 655, -1, 0, 200] "
   ]
  },
  {
   "cell_type": "code",
   "execution_count": 74,
   "id": "fae82f8b",
   "metadata": {},
   "outputs": [
    {
     "data": {
      "text/plain": [
       "[100, 125, 345, 655, 0, 200]"
      ]
     },
     "execution_count": 74,
     "metadata": {},
     "output_type": "execute_result"
    }
   ],
   "source": [
    "correct_costs = [x for x in costs if x >= 0]\n",
    "correct_costs"
   ]
  },
  {
   "cell_type": "markdown",
   "id": "94ce2a05",
   "metadata": {},
   "source": [
    "## Задача 4\n",
    "Даны два списка.\n",
    "Дата покупки\n",
    "['2021-09-14', '2021-12-15', '2021-09-08', '2021-12-05', '2021-10-09', '2021-09-30', '2021-12-22', '2021-11-29', '2021-12-24', '2021-11-26', '2021-10-27', '2021-12-18', '2021-11-09', '2021-11-23', '2021-09-27', '2021-10-02', '2021-12-27', '2021-09-20', '2021-12-13', '2021-11-01', '2021-11-09', '2021-12-06', '2021-12-08', '2021-10-09', '2021-10-31', '2021-09-30', '2021-11-09', '2021-12-13', '2021-10-26', '2021-12-09']\n",
    "Суммы покупок по датам\n",
    "[1270, 8413, 9028, 3703, 5739, 4095, 295, 4944, 5723, 3701, 4471, 651, 7037, 4274, 6275, 4988, 6930, 2971, 6592, 2004, 2822, 519, 3406, 2732, 5015, 2008, 316, 6333, 5700, 2887]\n"
   ]
  },
  {
   "cell_type": "code",
   "execution_count": 58,
   "id": "5074da08",
   "metadata": {},
   "outputs": [],
   "source": [
    "buy_dates = ['2021-09-14', '2021-12-15', '2021-09-08', '2021-12-05', '2021-10-09', '2021-09-30', '2021-12-22', '2021-11-29', '2021-12-24', '2021-11-26', '2021-10-27', '2021-12-18', '2021-11-09', '2021-11-23', '2021-09-27', '2021-10-02', '2021-12-27', '2021-09-20', '2021-12-13', '2021-11-01', '2021-11-09', '2021-12-06', '2021-12-08', '2021-10-09', '2021-10-31', '2021-09-30', '2021-11-09', '2021-12-13', '2021-10-26', '2021-12-09']\n",
    "#buy_dates"
   ]
  },
  {
   "cell_type": "code",
   "execution_count": 59,
   "id": "6466a2ee",
   "metadata": {},
   "outputs": [],
   "source": [
    "buy_sums = [1270, 8413, 9028, 3703, 5739, 4095, 295, 4944, 5723, 3701, 4471, 651, 7037, 4274, 6275, 4988, 6930, 2971, 6592, 2004, 2822, 519, 3406, 2732, 5015, 2008, 316, 6333, 5700, 2887]\n",
    "#buy_sums"
   ]
  },
  {
   "cell_type": "markdown",
   "id": "d0441bb3",
   "metadata": {},
   "source": [
    "### 4.1 Найдите, какая выручка у компании в ноябре\n",
    "Используйте list comprehensions\n"
   ]
  },
  {
   "cell_type": "code",
   "execution_count": 138,
   "id": "21f61a9a",
   "metadata": {},
   "outputs": [
    {
     "data": {
      "text/plain": [
       "{'2021-09-14': 1270,\n",
       " '2021-12-15': 8413,\n",
       " '2021-09-08': 9028,\n",
       " '2021-12-05': 3703,\n",
       " '2021-10-09': 2732,\n",
       " '2021-09-30': 2008,\n",
       " '2021-12-22': 295,\n",
       " '2021-11-29': 4944,\n",
       " '2021-12-24': 5723,\n",
       " '2021-11-26': 3701,\n",
       " '2021-10-27': 4471,\n",
       " '2021-12-18': 651,\n",
       " '2021-11-09': 316,\n",
       " '2021-11-23': 4274,\n",
       " '2021-09-27': 6275,\n",
       " '2021-10-02': 4988,\n",
       " '2021-12-27': 6930,\n",
       " '2021-09-20': 2971,\n",
       " '2021-12-13': 6333,\n",
       " '2021-11-01': 2004,\n",
       " '2021-12-06': 519,\n",
       " '2021-12-08': 3406,\n",
       " '2021-10-31': 5015,\n",
       " '2021-10-26': 5700,\n",
       " '2021-12-09': 2887}"
      ]
     },
     "execution_count": 138,
     "metadata": {},
     "output_type": "execute_result"
    }
   ],
   "source": [
    "buy_info = {\n",
    "    buy_dates[i]: buy_sums[i] for i in range(len(buy_sums))\n",
    "}\n",
    "buy_info"
   ]
  },
  {
   "cell_type": "code",
   "execution_count": 140,
   "id": "d6be64a7",
   "metadata": {},
   "outputs": [
    {
     "data": {
      "text/plain": [
       "15239"
      ]
     },
     "execution_count": 140,
     "metadata": {},
     "output_type": "execute_result"
    }
   ],
   "source": [
    "revenue = 0\n",
    "\n",
    "for i in buy_info:\n",
    "    if i.find('2021-11') != -1:\n",
    "        revenue += buy_info.get(i)\n",
    "    \n",
    "revenue   "
   ]
  },
  {
   "cell_type": "markdown",
   "id": "92379e43",
   "metadata": {},
   "source": [
    "### 4.2 Найдите выручку компании в зависимости от месяца\n",
    "Для этого напишите функцию, которая на вход принимает список с датами и список с выручкой, а на выходе словарь, где ключи - это месяцы, а значения - это выручка.\n",
    "Используйте аннотирование типов."
   ]
  },
  {
   "cell_type": "code",
   "execution_count": 150,
   "id": "95249e2d",
   "metadata": {},
   "outputs": [],
   "source": [
    "import datetime \n",
    "\n",
    "def months_revenue(dates: list, sums: list) -> dict:\n",
    "    format = '%Y-%m-%d'\n",
    "    dates_to_months = [datetime.datetime.strptime(x, format).date().month for x in dates]\n",
    "    \n",
    "    result_dict = {}\n",
    "    source_dict = {dates[i]: sums[i] for i in range(len(sums))}\n",
    "    \n",
    "    for key, value in source_dict.items():\n",
    "        key_to_dict = datetime.datetime.strptime(key, format).date().month\n",
    "        result_dict[key_to_dict] = result_dict.get(key_to_dict, 0) + value \n",
    "    \n",
    "    \n",
    "    return result_dict\n",
    "    \n",
    "    \n",
    "    "
   ]
  },
  {
   "cell_type": "code",
   "execution_count": 151,
   "id": "d9c16bde",
   "metadata": {},
   "outputs": [
    {
     "data": {
      "text/plain": [
       "{9: 21552, 12: 38860, 10: 22906, 11: 15239}"
      ]
     },
     "execution_count": 151,
     "metadata": {},
     "output_type": "execute_result"
    }
   ],
   "source": [
    "months_revenue(buy_dates, buy_sums)"
   ]
  },
  {
   "cell_type": "code",
   "execution_count": null,
   "id": "3360ba7c",
   "metadata": {},
   "outputs": [],
   "source": []
  }
 ],
 "metadata": {
  "kernelspec": {
   "display_name": "Python 3",
   "language": "python",
   "name": "python3"
  },
  "language_info": {
   "codemirror_mode": {
    "name": "ipython",
    "version": 3
   },
   "file_extension": ".py",
   "mimetype": "text/x-python",
   "name": "python",
   "nbconvert_exporter": "python",
   "pygments_lexer": "ipython3",
   "version": "3.8.8"
  }
 },
 "nbformat": 4,
 "nbformat_minor": 5
}
