{
 "cells": [
  {
   "cell_type": "markdown",
   "id": "2184ed87",
   "metadata": {},
   "source": [
    "## Задача 2\n",
    "\n",
    "На складе лежат разные фрукты в разном количестве.\n",
    "Нужно написать функцию, которая на вход принимает любое количество названий фруктов и их количество, а возвращает общее количество фруктов на складе"
   ]
  },
  {
   "cell_type": "code",
   "execution_count": 15,
   "id": "c6703608",
   "metadata": {},
   "outputs": [],
   "source": [
    "def fruits_count(**fruit_info):\n",
    "    fruits_total = 0\n",
    "    \n",
    "    for value in fruit_info.values():\n",
    "       fruits_total += value \n",
    "    \n",
    "    return fruits_total    "
   ]
  },
  {
   "cell_type": "code",
   "execution_count": 14,
   "id": "b72123ae",
   "metadata": {},
   "outputs": [
    {
     "data": {
      "text/plain": [
       "11"
      ]
     },
     "execution_count": 14,
     "metadata": {},
     "output_type": "execute_result"
    }
   ],
   "source": [
    "fruits_count(apple=2, peach=1, grape=8)"
   ]
  },
  {
   "cell_type": "markdown",
   "id": "33cd7de0",
   "metadata": {},
   "source": [
    "## Задача 3\n",
    "Дан список с затратами на рекламу. Но в данных есть ошибки, некоторые затраты имеют отрицательную величину. Удалите такие значения из списка и посчитайте суммарные затраты\n",
    "[100, 125, -90, 345, 655, -1, 0, 200]\n",
    "Используйте list comprehensions"
   ]
  },
  {
   "cell_type": "code",
   "execution_count": 16,
   "id": "6cb3ed58",
   "metadata": {},
   "outputs": [],
   "source": [
    "costs = [100, 125, -90, 345, 655, -1, 0, 200] "
   ]
  },
  {
   "cell_type": "code",
   "execution_count": 18,
   "id": "08f2594e",
   "metadata": {},
   "outputs": [
    {
     "data": {
      "text/plain": [
       "[100, 125, 345, 655, 0, 200]"
      ]
     },
     "execution_count": 18,
     "metadata": {},
     "output_type": "execute_result"
    }
   ],
   "source": [
    "correct_costs = [x_i for x_i in costs if x_i >= 0]\n",
    "correct_costs"
   ]
  },
  {
   "cell_type": "markdown",
   "id": "1e8dc4c6",
   "metadata": {},
   "source": [
    "## Задача 4\n",
    "Даны два списка.\n",
    "Дата покупки\n",
    "['2021-09-14', '2021-12-15', '2021-09-08', '2021-12-05', '2021-10-09', '2021-09-30', '2021-12-22', '2021-11-29', '2021-12-24', '2021-11-26', '2021-10-27', '2021-12-18', '2021-11-09', '2021-11-23', '2021-09-27', '2021-10-02', '2021-12-27', '2021-09-20', '2021-12-13', '2021-11-01', '2021-11-09', '2021-12-06', '2021-12-08', '2021-10-09', '2021-10-31', '2021-09-30', '2021-11-09', '2021-12-13', '2021-10-26', '2021-12-09']\n",
    "Суммы покупок по датам\n",
    "[1270, 8413, 9028, 3703, 5739, 4095, 295, 4944, 5723, 3701, 4471, 651, 7037, 4274, 6275, 4988, 6930, 2971, 6592, 2004, 2822, 519, 3406, 2732, 5015, 2008, 316, 6333, 5700, 2887]\n"
   ]
  },
  {
   "cell_type": "code",
   "execution_count": 58,
   "id": "66325d9e",
   "metadata": {},
   "outputs": [],
   "source": [
    "buy_dates = ['2021-09-14', '2021-12-15', '2021-09-08', '2021-12-05', '2021-10-09', '2021-09-30', '2021-12-22', '2021-11-29', '2021-12-24', '2021-11-26', '2021-10-27', '2021-12-18', '2021-11-09', '2021-11-23', '2021-09-27', '2021-10-02', '2021-12-27', '2021-09-20', '2021-12-13', '2021-11-01', '2021-11-09', '2021-12-06', '2021-12-08', '2021-10-09', '2021-10-31', '2021-09-30', '2021-11-09', '2021-12-13', '2021-10-26', '2021-12-09']\n",
    "#buy_dates"
   ]
  },
  {
   "cell_type": "code",
   "execution_count": 59,
   "id": "547d5620",
   "metadata": {},
   "outputs": [],
   "source": [
    "buy_sums = [1270, 8413, 9028, 3703, 5739, 4095, 295, 4944, 5723, 3701, 4471, 651, 7037, 4274, 6275, 4988, 6930, 2971, 6592, 2004, 2822, 519, 3406, 2732, 5015, 2008, 316, 6333, 5700, 2887]\n",
    "#buy_sums"
   ]
  },
  {
   "cell_type": "markdown",
   "id": "c549f2d8",
   "metadata": {},
   "source": [
    "### 4.1 Найдите, какая выручка у компании в ноябре\n",
    "Используйте list comprehensions\n"
   ]
  },
  {
   "cell_type": "code",
   "execution_count": 61,
   "id": "cfc50d4a",
   "metadata": {},
   "outputs": [],
   "source": [
    "buy_info = {\n",
    "    buy_dates[i]: buy_sums[i] for i in range(len(buy_sums))\n",
    "}\n",
    "#buy_info"
   ]
  },
  {
   "cell_type": "code",
   "execution_count": 63,
   "id": "d88d11f9",
   "metadata": {},
   "outputs": [
    {
     "data": {
      "text/plain": [
       "15239"
      ]
     },
     "execution_count": 63,
     "metadata": {},
     "output_type": "execute_result"
    }
   ],
   "source": [
    "revenue = 0\n",
    "\n",
    "for i in buy_info:\n",
    "    if i.find('2021-11') != -1:\n",
    "        revenue += buy_info.get(i)\n",
    "    \n",
    "revenue   "
   ]
  },
  {
   "cell_type": "code",
   "execution_count": 70,
   "id": "f6af0334",
   "metadata": {},
   "outputs": [
    {
     "name": "stdout",
     "output_type": "stream",
     "text": [
      "Ответ: Выручка в у компании в ноябре составила 15239\n"
     ]
    }
   ],
   "source": [
    "print('Ответ: Выручка в у компании в ноябре составила', revenue)"
   ]
  },
  {
   "cell_type": "markdown",
   "id": "466d8b9f",
   "metadata": {},
   "source": [
    "### 4.2 Найдите выручку компании в зависимости от месяца\n",
    "Для этого напишите функцию, которая на вход принимает список с датами и список с выручкой, а на выходе словарь, где ключи - это месяцы, а значения - это выручка.\n",
    "Используйте аннотирование типов."
   ]
  },
  {
   "cell_type": "code",
   "execution_count": null,
   "id": "75d5de42",
   "metadata": {},
   "outputs": [],
   "source": []
  },
  {
   "cell_type": "code",
   "execution_count": null,
   "id": "14fa862a",
   "metadata": {},
   "outputs": [],
   "source": []
  }
 ],
 "metadata": {
  "kernelspec": {
   "display_name": "Python 3",
   "language": "python",
   "name": "python3"
  },
  "language_info": {
   "codemirror_mode": {
    "name": "ipython",
    "version": 3
   },
   "file_extension": ".py",
   "mimetype": "text/x-python",
   "name": "python",
   "nbconvert_exporter": "python",
   "pygments_lexer": "ipython3",
   "version": "3.8.8"
  }
 },
 "nbformat": 4,
 "nbformat_minor": 5
}
